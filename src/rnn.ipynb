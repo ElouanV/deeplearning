{
 "cells": [
  {
   "cell_type": "code",
   "execution_count": 1,
   "metadata": {},
   "outputs": [
    {
     "name": "stdout",
     "output_type": "stream",
     "text": [
      "Using cuda\n"
     ]
    },
    {
     "name": "stderr",
     "output_type": "stream",
     "text": [
      "[nltk_data] Downloading package punkt to /home/mli/nltk_data...\n",
      "[nltk_data]   Package punkt is already up-to-date!\n"
     ]
    },
    {
     "name": "stdout",
     "output_type": "stream",
     "text": [
      "Max length of the sentences: 1000\n",
      "Max length of the sentences: 1000\n"
     ]
    }
   ],
   "source": [
    "import torch\n",
    "import torch.nn as nn\n",
    "from dataset import LargeMovieDataset\n",
    "from torch.utils.data import DataLoader\n",
    "from gensim.models import Word2Vec\n",
    "import torch.nn.functional as F\n",
    "\n",
    "#DATALOADER\n",
    "word_embedding_size = 64\n",
    "word2vec_model = Word2Vec.load(\"../checkpoints/word2vec_model.model\")\n",
    "\n",
    "train_set = LargeMovieDataset(path=\"../data/aclImdb/\", set=\"train\", embedding_dic=word2vec_model.wv, word_embedding_size=word_embedding_size)\n",
    "test_set = LargeMovieDataset(path='../data/aclImdb/', set='test', embedding_dic=word2vec_model.wv, word_embedding_size=word_embedding_size)\n",
    "\n",
    "train_set, val_set = torch.utils.data.random_split(train_set, [int(0.8 * len(train_set)), len(train_set) - int(0.8 * len(train_set))])\n",
    "\n",
    "train_dataloader = DataLoader(train_set, batch_size=32, shuffle=True)\n",
    "val_dataloader = DataLoader(val_set, batch_size=32, shuffle=True)\n",
    "test_dataloader = DataLoader(test_set, batch_size=32, shuffle=True)"
   ]
  },
  {
   "cell_type": "code",
   "execution_count": null,
   "metadata": {},
   "outputs": [],
   "source": [
    "class CustomRNN(nn.Module):\n",
    "    \"\"\"Hyperparameters : [hiden_size, num_layer]\"\"\"\n",
    "    def __init__(self, input_size, hidden_size, num_layer):\n",
    "        super(CustomRNN, self).__init__()\n",
    "        self.input_size = input_size        \n",
    "        self.hidden_size = hidden_size\n",
    "        self.num_layer = num_layer\n",
    "        self.c1 = nn.RNN(self.input_size, self.hidden_size, num_layers=num_layer, batch_first=True)\n",
    "        self.c2 = nn.Linear(self.hidden_size, 2)\n",
    "\n",
    "    def forward(self, x, mask):\n",
    "        x, hiden = self.c1(x)\n",
    "        x = x[:, -1, :]\n",
    "        x = self.c2(x)\n",
    "        return F.relu(x)\n",
    "    \n",
    "class CustomLSTM(nn.Module):\n",
    "    \"\"\"Hyperparameters : [hiden_size, num_layer]\"\"\"\n",
    "    def __init__(self, input_size, hidden_size, num_layer, bidirectional_bool):\n",
    "        super(CustomLSTM, self).__init__()\n",
    "        self.input_size = input_size        \n",
    "        self.hidden_size = hidden_size\n",
    "        self.num_layer = num_layer\n",
    "        self.c1 = nn.LSTM(self.input_size, int(self.hidden_size / (bidirectional_bool + 1)), num_layers=num_layer, batch_first=True, bidirectional=bidirectional_bool)\n",
    "        self.c2 = nn.Linear(self.hidden_size, 2)\n",
    "\n",
    "    def forward(self, x, mask):\n",
    "        x, hiden = self.c1(x)\n",
    "        x = x[:, -1, :]\n",
    "        x = self.c2(x)\n",
    "        return F.relu(x)\n",
    "\n",
    "hidensize = 128\n",
    "num_layer = 1\n",
    "rnn_model = CustomRNN(word_embedding_size, hidensize, num_layer)\n",
    "lstm_model = CustomLSTM(word_embedding_size, hidensize, num_layer, False)\n",
    "bilstm_model = CustomLSTM(word_embedding_size, hidensize, num_layer, True)\n",
    "\n",
    "learning_rate=1e-3\n",
    "optimizer_rnn = torch.optim.Adam(rnn_model.parameters(), lr=learning_rate)\n",
    "criterion_rnn = nn.CrossEntropyLoss()"
   ]
  },
  {
   "cell_type": "code",
   "execution_count": 4,
   "metadata": {},
   "outputs": [
    {
     "name": "stdout",
     "output_type": "stream",
     "text": [
      "Using device: cuda:0 to train\n",
      "\n",
      "Epoch: 0/5\n"
     ]
    },
    {
     "name": "stderr",
     "output_type": "stream",
     "text": [
      "100%|\u001b[32m██████████\u001b[0m| 625/625 [00:13<00:00, 46.27batch/s, acc=25.00%, epoch=0, loss=0.693, set=train]\n"
     ]
    },
    {
     "name": "stdout",
     "output_type": "stream",
     "text": [
      "Train: loss: 0.6931547475814819, accuracy: 50.12515018021626%\n"
     ]
    },
    {
     "name": "stderr",
     "output_type": "stream",
     "text": [
      "100%|\u001b[34m██████████\u001b[0m| 157/157 [00:02<00:00, 56.71batch/s, acc=66.67%, epoch=0, loss=0.693, set=val]\n"
     ]
    },
    {
     "name": "stdout",
     "output_type": "stream",
     "text": [
      "Validation: loss: 0.6931474785895864, accuracy: 49.589589589589586%\n",
      "Epoch: 1/5\n"
     ]
    },
    {
     "name": "stderr",
     "output_type": "stream",
     "text": [
      "100%|\u001b[32m██████████\u001b[0m| 625/625 [00:13<00:00, 45.99batch/s, acc=50.00%, epoch=1, loss=0.693, set=train]\n"
     ]
    },
    {
     "name": "stdout",
     "output_type": "stream",
     "text": [
      "Train: loss: 0.6931474800109864, accuracy: 50.12515018021626%\n"
     ]
    },
    {
     "name": "stderr",
     "output_type": "stream",
     "text": [
      "100%|\u001b[34m██████████\u001b[0m| 157/157 [00:02<00:00, 57.40batch/s, acc=0.00%, epoch=1, loss=0.693, set=val] \n"
     ]
    },
    {
     "name": "stdout",
     "output_type": "stream",
     "text": [
      "Validation: loss: 0.6931474785895864, accuracy: 49.589589589589586%\n",
      "Epoch: 2/5\n"
     ]
    },
    {
     "name": "stderr",
     "output_type": "stream",
     "text": [
      "100%|\u001b[32m██████████\u001b[0m| 625/625 [00:13<00:00, 45.28batch/s, acc=62.50%, epoch=2, loss=0.693, set=train]\n"
     ]
    },
    {
     "name": "stdout",
     "output_type": "stream",
     "text": [
      "Train: loss: 0.6931474800109864, accuracy: 50.12515018021626%\n"
     ]
    },
    {
     "name": "stderr",
     "output_type": "stream",
     "text": [
      "100%|\u001b[34m██████████\u001b[0m| 157/157 [00:02<00:00, 59.17batch/s, acc=66.67%, epoch=2, loss=0.693, set=val]\n"
     ]
    },
    {
     "name": "stdout",
     "output_type": "stream",
     "text": [
      "Validation: loss: 0.6931474785895864, accuracy: 49.589589589589586%\n",
      "Epoch: 3/5\n"
     ]
    },
    {
     "name": "stderr",
     "output_type": "stream",
     "text": [
      "100%|\u001b[32m██████████\u001b[0m| 625/625 [00:13<00:00, 46.87batch/s, acc=50.00%, epoch=3, loss=0.693, set=train]\n"
     ]
    },
    {
     "name": "stdout",
     "output_type": "stream",
     "text": [
      "Train: loss: 0.6931474800109864, accuracy: 50.12515018021626%\n"
     ]
    },
    {
     "name": "stderr",
     "output_type": "stream",
     "text": [
      "100%|\u001b[34m██████████\u001b[0m| 157/157 [00:02<00:00, 59.27batch/s, acc=100.00%, epoch=3, loss=0.693, set=val]\n"
     ]
    },
    {
     "name": "stdout",
     "output_type": "stream",
     "text": [
      "Validation: loss: 0.6931474785895864, accuracy: 49.589589589589586%\n",
      "Epoch: 4/5\n"
     ]
    },
    {
     "name": "stderr",
     "output_type": "stream",
     "text": [
      "100%|\u001b[32m██████████\u001b[0m| 625/625 [00:13<00:00, 47.73batch/s, acc=62.50%, epoch=4, loss=0.693, set=train]\n"
     ]
    },
    {
     "name": "stdout",
     "output_type": "stream",
     "text": [
      "Train: loss: 0.6931474800109864, accuracy: 50.12515018021626%\n"
     ]
    },
    {
     "name": "stderr",
     "output_type": "stream",
     "text": [
      "100%|\u001b[34m██████████\u001b[0m| 157/157 [00:02<00:00, 58.94batch/s, acc=33.33%, epoch=4, loss=0.693, set=val]\n"
     ]
    },
    {
     "name": "stdout",
     "output_type": "stream",
     "text": [
      "Validation: loss: 0.6931474785895864, accuracy: 49.589589589589586%\n",
      "Using device: cuda:0 to train\n",
      "\n",
      "Epoch: 0/5\n"
     ]
    },
    {
     "name": "stderr",
     "output_type": "stream",
     "text": [
      "100%|\u001b[32m██████████\u001b[0m| 625/625 [00:27<00:00, 22.44batch/s, acc=62.50%, epoch=0, loss=0.693, set=train]\n"
     ]
    },
    {
     "name": "stdout",
     "output_type": "stream",
     "text": [
      "Train: loss: 0.6931481016159058, accuracy: 50.12014417300761%\n"
     ]
    },
    {
     "name": "stderr",
     "output_type": "stream",
     "text": [
      "100%|\u001b[34m██████████\u001b[0m| 157/157 [00:04<00:00, 39.23batch/s, acc=66.67%, epoch=0, loss=0.693, set=val]\n"
     ]
    },
    {
     "name": "stdout",
     "output_type": "stream",
     "text": [
      "Validation: loss: 0.6931468460969864, accuracy: 49.589589589589586%\n",
      "Epoch: 1/5\n"
     ]
    },
    {
     "name": "stderr",
     "output_type": "stream",
     "text": [
      "100%|\u001b[32m██████████\u001b[0m| 625/625 [00:27<00:00, 22.61batch/s, acc=62.50%, epoch=1, loss=0.693, set=train]\n"
     ]
    },
    {
     "name": "stdout",
     "output_type": "stream",
     "text": [
      "Train: loss: 0.6931481016159058, accuracy: 50.12014417300761%\n"
     ]
    },
    {
     "name": "stderr",
     "output_type": "stream",
     "text": [
      "100%|\u001b[34m██████████\u001b[0m| 157/157 [00:04<00:00, 39.12batch/s, acc=33.33%, epoch=1, loss=0.693, set=val]\n"
     ]
    },
    {
     "name": "stdout",
     "output_type": "stream",
     "text": [
      "Validation: loss: 0.6931468460969864, accuracy: 49.589589589589586%\n",
      "Epoch: 2/5\n"
     ]
    },
    {
     "name": "stderr",
     "output_type": "stream",
     "text": [
      "100%|\u001b[32m██████████\u001b[0m| 625/625 [00:27<00:00, 22.33batch/s, acc=25.00%, epoch=2, loss=0.693, set=train]\n"
     ]
    },
    {
     "name": "stdout",
     "output_type": "stream",
     "text": [
      "Train: loss: 0.6931481016159058, accuracy: 50.12014417300761%\n"
     ]
    },
    {
     "name": "stderr",
     "output_type": "stream",
     "text": [
      "100%|\u001b[34m██████████\u001b[0m| 157/157 [00:04<00:00, 38.19batch/s, acc=33.33%, epoch=2, loss=0.693, set=val]\n"
     ]
    },
    {
     "name": "stdout",
     "output_type": "stream",
     "text": [
      "Validation: loss: 0.6931468464766338, accuracy: 49.589589589589586%\n",
      "Epoch: 3/5\n"
     ]
    },
    {
     "name": "stderr",
     "output_type": "stream",
     "text": [
      "100%|\u001b[32m██████████\u001b[0m| 625/625 [00:27<00:00, 22.62batch/s, acc=62.50%, epoch=3, loss=0.693, set=train]\n"
     ]
    },
    {
     "name": "stdout",
     "output_type": "stream",
     "text": [
      "Train: loss: 0.6931481016159058, accuracy: 50.12014417300761%\n"
     ]
    },
    {
     "name": "stderr",
     "output_type": "stream",
     "text": [
      "100%|\u001b[34m██████████\u001b[0m| 157/157 [00:04<00:00, 38.51batch/s, acc=33.33%, epoch=3, loss=0.693, set=val]\n"
     ]
    },
    {
     "name": "stdout",
     "output_type": "stream",
     "text": [
      "Validation: loss: 0.6931468460969864, accuracy: 49.589589589589586%\n",
      "Epoch: 4/5\n"
     ]
    },
    {
     "name": "stderr",
     "output_type": "stream",
     "text": [
      "100%|\u001b[32m██████████\u001b[0m| 625/625 [00:27<00:00, 22.59batch/s, acc=50.00%, epoch=4, loss=0.693, set=train]\n"
     ]
    },
    {
     "name": "stdout",
     "output_type": "stream",
     "text": [
      "Train: loss: 0.6931481016159058, accuracy: 50.12014417300761%\n"
     ]
    },
    {
     "name": "stderr",
     "output_type": "stream",
     "text": [
      "100%|\u001b[34m██████████\u001b[0m| 157/157 [00:04<00:00, 39.19batch/s, acc=66.67%, epoch=4, loss=0.693, set=val]\n"
     ]
    },
    {
     "name": "stdout",
     "output_type": "stream",
     "text": [
      "Validation: loss: 0.6931468460969864, accuracy: 49.589589589589586%\n",
      "Using device: cuda:0 to train\n",
      "\n",
      "Epoch: 0/5\n"
     ]
    },
    {
     "name": "stderr",
     "output_type": "stream",
     "text": [
      "100%|\u001b[32m██████████\u001b[0m| 625/625 [00:16<00:00, 37.24batch/s, acc=25.00%, epoch=0, loss=0.693, set=train]\n"
     ]
    },
    {
     "name": "stdout",
     "output_type": "stream",
     "text": [
      "Train: loss: 0.6931471017837525, accuracy: 50.12515018021626%\n"
     ]
    },
    {
     "name": "stderr",
     "output_type": "stream",
     "text": [
      "100%|\u001b[34m██████████\u001b[0m| 157/157 [00:03<00:00, 51.85batch/s, acc=0.00%, epoch=0, loss=0.693, set=val] \n"
     ]
    },
    {
     "name": "stdout",
     "output_type": "stream",
     "text": [
      "Validation: loss: 0.6931474785895864, accuracy: 49.589589589589586%\n",
      "Epoch: 1/5\n"
     ]
    },
    {
     "name": "stderr",
     "output_type": "stream",
     "text": [
      "100%|\u001b[32m██████████\u001b[0m| 625/625 [00:17<00:00, 36.51batch/s, acc=50.00%, epoch=1, loss=0.693, set=train]\n"
     ]
    },
    {
     "name": "stdout",
     "output_type": "stream",
     "text": [
      "Train: loss: 0.6931471017837525, accuracy: 50.12515018021626%\n"
     ]
    },
    {
     "name": "stderr",
     "output_type": "stream",
     "text": [
      "100%|\u001b[34m██████████\u001b[0m| 157/157 [00:02<00:00, 53.14batch/s, acc=66.67%, epoch=1, loss=0.693, set=val]\n"
     ]
    },
    {
     "name": "stdout",
     "output_type": "stream",
     "text": [
      "Validation: loss: 0.6931474785895864, accuracy: 49.589589589589586%\n",
      "Epoch: 2/5\n"
     ]
    },
    {
     "name": "stderr",
     "output_type": "stream",
     "text": [
      "100%|\u001b[32m██████████\u001b[0m| 625/625 [00:17<00:00, 35.56batch/s, acc=50.00%, epoch=2, loss=0.693, set=train]\n"
     ]
    },
    {
     "name": "stdout",
     "output_type": "stream",
     "text": [
      "Train: loss: 0.6931471017837525, accuracy: 50.12515018021626%\n"
     ]
    },
    {
     "name": "stderr",
     "output_type": "stream",
     "text": [
      "100%|\u001b[34m██████████\u001b[0m| 157/157 [00:03<00:00, 51.83batch/s, acc=100.00%, epoch=2, loss=0.693, set=val]\n"
     ]
    },
    {
     "name": "stdout",
     "output_type": "stream",
     "text": [
      "Validation: loss: 0.6931474785895864, accuracy: 49.589589589589586%\n",
      "Epoch: 3/5\n"
     ]
    },
    {
     "name": "stderr",
     "output_type": "stream",
     "text": [
      "100%|\u001b[32m██████████\u001b[0m| 625/625 [00:17<00:00, 35.65batch/s, acc=25.00%, epoch=3, loss=0.693, set=train]\n"
     ]
    },
    {
     "name": "stdout",
     "output_type": "stream",
     "text": [
      "Train: loss: 0.6931471017837525, accuracy: 50.12515018021626%\n"
     ]
    },
    {
     "name": "stderr",
     "output_type": "stream",
     "text": [
      "100%|\u001b[34m██████████\u001b[0m| 157/157 [00:02<00:00, 53.68batch/s, acc=0.00%, epoch=3, loss=0.693, set=val] \n"
     ]
    },
    {
     "name": "stdout",
     "output_type": "stream",
     "text": [
      "Validation: loss: 0.6931474785895864, accuracy: 49.589589589589586%\n",
      "Epoch: 4/5\n"
     ]
    },
    {
     "name": "stderr",
     "output_type": "stream",
     "text": [
      "100%|\u001b[32m██████████\u001b[0m| 625/625 [00:17<00:00, 35.96batch/s, acc=50.00%, epoch=4, loss=0.693, set=train]\n"
     ]
    },
    {
     "name": "stdout",
     "output_type": "stream",
     "text": [
      "Train: loss: 0.6931471017837525, accuracy: 50.12515018021626%\n"
     ]
    },
    {
     "name": "stderr",
     "output_type": "stream",
     "text": [
      "100%|\u001b[34m██████████\u001b[0m| 157/157 [00:03<00:00, 51.86batch/s, acc=33.33%, epoch=4, loss=0.693, set=val]\n"
     ]
    },
    {
     "name": "stdout",
     "output_type": "stream",
     "text": [
      "Validation: loss: 0.6931474785895864, accuracy: 49.589589589589586%\n"
     ]
    }
   ],
   "source": [
    "from utils import train\n",
    "\n",
    "train(model=rnn_model, train_dataloader=train_dataloader, val_dataloader=val_dataloader, optimizer=optimizer_rnn, criterion=criterion_rnn, num_epochs=5)\n",
    "train(model=lstm_model, train_dataloader=train_dataloader, val_dataloader=val_dataloader, optimizer=optimizer_rnn, criterion=criterion_rnn, num_epochs=5)\n",
    "train(model=bilstm_model, train_dataloader=train_dataloader, val_dataloader=val_dataloader, optimizer=optimizer_rnn, criterion=criterion_rnn, num_epochs=5)"
   ]
  }
 ],
 "metadata": {
  "kernelspec": {
   "display_name": ".venv",
   "language": "python",
   "name": "python3"
  },
  "language_info": {
   "codemirror_mode": {
    "name": "ipython",
    "version": 3
   },
   "file_extension": ".py",
   "mimetype": "text/x-python",
   "name": "python",
   "nbconvert_exporter": "python",
   "pygments_lexer": "ipython3",
   "version": "3.10.6"
  }
 },
 "nbformat": 4,
 "nbformat_minor": 2
}

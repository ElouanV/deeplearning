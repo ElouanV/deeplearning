{
 "cells": [
  {
   "cell_type": "code",
   "execution_count": 64,
   "metadata": {},
   "outputs": [
    {
     "name": "stdout",
     "output_type": "stream",
     "text": [
      "cuda:0\n"
     ]
    }
   ],
   "source": [
    "from dataset import LargeMovieDataset\n",
    "from cnn import SentimentCNN, trainingModelCNN\n",
    "from sklearn.feature_extraction.text import TfidfVectorizer\n",
    "from dataset import LargeMovieDataset\n",
    "from gensim.models import Word2Vec\n",
    "from utils import get_sentences_data, check_dir, train\n",
    "from torch.utils.data import DataLoader\n",
    "import torch\n",
    "import torch.nn as nn\n",
    "import torch.optim as optim\n",
    "import numpy as np\n",
    "\n",
    "device = torch.device(\"cuda:0\" if torch.cuda.is_available() else \"cpu\")\n",
    "print(device)"
   ]
  },
  {
   "cell_type": "code",
   "execution_count": 2,
   "metadata": {},
   "outputs": [
    {
     "name": "stdout",
     "output_type": "stream",
     "text": [
      "max_len: 999\n",
      "max_len: 1000\n"
     ]
    }
   ],
   "source": [
    "MODELS_DIR = '../models'\n",
    "check_dir(MODELS_DIR)\n",
    "# Create dataset\n",
    "word_embedding_size = 16\n",
    "word2vec_model = Word2Vec.load(f'{MODELS_DIR}/word2vec_model.model')\n",
    "\n",
    "train_set = LargeMovieDataset(path='../../aclImdb_v1/', set='train', embedding_dic=word2vec_model.wv, word_embedding_size=word_embedding_size)\n",
    "test_set = LargeMovieDataset(path='../../aclImdb_v1/', set='test', embedding_dic=word2vec_model.wv, word_embedding_size=word_embedding_size)\n"
   ]
  },
  {
   "cell_type": "code",
   "execution_count": 3,
   "metadata": {},
   "outputs": [
    {
     "name": "stdout",
     "output_type": "stream",
     "text": [
      "Data loaded\n",
      "Training set size: 19976\n",
      "Validation set size: 4995\n",
      "Test set size: 24987\n"
     ]
    }
   ],
   "source": [
    "\n",
    "# split the training set into training and validation set (80 for training, 20 for validation)\n",
    "train_set, validation_set = torch.utils.data.random_split(train_set, [int(len(train_set) * 0.8), len(train_set) - int(len(train_set) * 0.8)])\n",
    "\n",
    "train_loader = DataLoader(train_set, batch_size=32, shuffle=True)\n",
    "validation_loader = DataLoader(validation_set, batch_size=32, shuffle=True)\n",
    "test_loader = DataLoader(test_set, batch_size=32, shuffle=True)\n",
    "\n",
    "print(\"Data loaded\")\n",
    "print('Training set size:', len(train_set))\n",
    "print('Validation set size:', len(validation_set))\n",
    "print('Test set size:', len(test_set))\n"
   ]
  },
  {
   "cell_type": "code",
   "execution_count": 77,
   "metadata": {},
   "outputs": [],
   "source": [
    "import torch\n",
    "import torch.nn as nn\n",
    "import torch.optim as optim\n",
    "import numpy as np\n",
    "from tqdm import tqdm\n",
    "from torch.functional import F\n",
    "\n",
    "# no need embedding layer, we use word2vec\n",
    "class SentimentCNN(nn.Module):\n",
    "    def __init__(self, len_word, hidden_size, num_classes, dropout=0.5):\n",
    "        super().__init__()       \n",
    "        # create a cnn \n",
    "        self.conv = nn.ModuleList([nn.Conv1d(in_channels=len_word, out_channels=hidden_size, kernel_size=k, dtype=torch.double, stride=1) for k in [3, 4, 5]])\n",
    "        self.dropout = nn.Dropout(dropout)\n",
    "        self.fc = nn.Linear(hidden_size*3, num_classes, dtype=torch.double)\n",
    "\n",
    "    def forward(self, x):\n",
    "        #x = torch.unsqueeze(x, dim=1)\n",
    "        x.transpose_(1, 2)\n",
    "        x = [F.relu(conv(x)) for conv in self.conv]\n",
    "        x = [F.max_pool1d(c, c.size(-1)).squeeze(dim=-1) for c in x]\n",
    "        x = torch.cat(x, dim=1)\n",
    "        x = self.dropout(x)\n",
    "        # requied shape for fc layer\n",
    "        x = x.view(x.size(0), -1)\n",
    "        x = self.fc(x)\n",
    "        return torch.sigmoid(x).squeeze()\n",
    "\n",
    "\n",
    "def trainingModelCNN(model, training_dataloader, valid_dataloader, criterion, optimizer, num_epochs=10):\n",
    "    model = model.to(device)\n",
    "    loss_list = []\n",
    "    for epoch in range(num_epochs):\n",
    "        logging_loss = 0.0\n",
    "        for i, data in enumerate(training_dataloader):\n",
    "            input = data['data']\n",
    "            labels = data['label']\n",
    "\n",
    "            input = input.to(device)\n",
    "            labels = labels.to(device)\n",
    "\n",
    "            # zero the parameter gradients\n",
    "            optimizer.zero_grad()\n",
    "\n",
    "            # Forward pass\n",
    "            out = model(input)\n",
    "\n",
    "            # Compute loss\n",
    "            loss = criterion(out, labels)\n",
    "\n",
    "            # Compute gradients\n",
    "            loss.backward()\n",
    "\n",
    "            # Backward pass - model update\n",
    "            optimizer.step()\n",
    "\n",
    "            logging_loss += loss.item()\n",
    "            if i % len(training_dataloader) == len(training_dataloader) - 1:\n",
    "                # Logging training loss\n",
    "                logging_loss /= len(training_dataloader)\n",
    "                print('Training loss epoch ', epoch, ' -- mini-batch ', i, ': ', logging_loss)\n",
    "                logging_loss = 0.0\n",
    "            \n",
    "                # Model validation\n",
    "                with torch.no_grad():\n",
    "                    logging_loss_val = 0.0\n",
    "                    for i, data_val in enumerate(valid_dataloader):\n",
    "                        input_val = data_val['data']\n",
    "                        labels_val = data_val['label']\n",
    "\n",
    "                        input_val = input_val.to(device)\n",
    "                        labels_val = labels_val.to(device)\n",
    "\n",
    "                        out_val = model(input_val)\n",
    "\n",
    "                        loss_val = criterion(out_val, labels_val)\n",
    "\n",
    "                        logging_loss_val += loss_val.item()\n",
    "                    logging_loss_val /= len(valid_dataloader)\n",
    "                    loss_list.append(logging_loss_val)\n",
    "                    print('Validation loss: ', logging_loss_val)\n",
    "    return loss_list"
   ]
  },
  {
   "cell_type": "code",
   "execution_count": 84,
   "metadata": {},
   "outputs": [
    {
     "name": "stdout",
     "output_type": "stream",
     "text": [
      "Training loss epoch  0  -- mini-batch  624 :  0.6926463916639609\n",
      "Validation loss:  0.690610407491777\n",
      "Training loss epoch  1  -- mini-batch  624 :  0.6667820472744805\n",
      "Validation loss:  0.6363554964322481\n",
      "Training loss epoch  2  -- mini-batch  624 :  0.6085634942755445\n",
      "Validation loss:  0.5844567953288963\n",
      "Training loss epoch  3  -- mini-batch  624 :  0.5743563136365376\n",
      "Validation loss:  0.5640057795633431\n",
      "Training loss epoch  4  -- mini-batch  624 :  0.5496944980770955\n",
      "Validation loss:  0.5550126276453019\n",
      "Training loss epoch  5  -- mini-batch  624 :  0.5329380150906466\n",
      "Validation loss:  0.5396184113017447\n",
      "Training loss epoch  6  -- mini-batch  624 :  0.5216413528083945\n",
      "Validation loss:  0.5307849545971096\n",
      "Training loss epoch  7  -- mini-batch  624 :  0.511027724868899\n",
      "Validation loss:  0.5225347640391057\n",
      "Training loss epoch  8  -- mini-batch  624 :  0.5062165904562458\n",
      "Validation loss:  0.5399319197974813\n",
      "Training loss epoch  9  -- mini-batch  624 :  0.4976079598842257\n",
      "Validation loss:  0.5144238338716041\n",
      "Training loss epoch  10  -- mini-batch  624 :  0.49053539905514726\n",
      "Validation loss:  0.5127694969561373\n",
      "Training loss epoch  11  -- mini-batch  624 :  0.4835025443891683\n",
      "Validation loss:  0.5165044551370355\n",
      "Training loss epoch  12  -- mini-batch  624 :  0.47945642802143684\n",
      "Validation loss:  0.5106922828073472\n",
      "Training loss epoch  13  -- mini-batch  624 :  0.4772124701417224\n",
      "Validation loss:  0.5131953809697454\n",
      "Training loss epoch  14  -- mini-batch  624 :  0.4723242619561961\n",
      "Validation loss:  0.5024573270342669\n",
      "Training loss epoch  15  -- mini-batch  624 :  0.47085288083374555\n",
      "Validation loss:  0.5097724693078913\n",
      "Training loss epoch  16  -- mini-batch  624 :  0.4671630695862729\n",
      "Validation loss:  0.49800755075601333\n",
      "Training loss epoch  17  -- mini-batch  624 :  0.4626876603244278\n",
      "Validation loss:  0.5018383234692165\n",
      "Training loss epoch  18  -- mini-batch  624 :  0.46301500542865004\n",
      "Validation loss:  0.501928657845535\n",
      "Training loss epoch  19  -- mini-batch  624 :  0.46236042788522536\n",
      "Validation loss:  0.5056766137507009\n"
     ]
    }
   ],
   "source": [
    "cnnModel = SentimentCNN(len_word=word_embedding_size, hidden_size=100, num_classes=2, dropout=0.5)\n",
    "criterion = nn.CrossEntropyLoss()\n",
    "optimizer = optim.Adam(cnnModel.parameters(), lr=0.001)\n",
    "\n",
    "loss_list = trainingModelCNN(cnnModel, train_loader, validation_loader, criterion, optimizer, num_epochs=20)\n",
    "\n",
    "# save model \n",
    "torch.save(cnnModel.state_dict(), f'{MODELS_DIR}/cnnModel.pt')"
   ]
  },
  {
   "cell_type": "code",
   "execution_count": 86,
   "metadata": {},
   "outputs": [
    {
     "name": "stdout",
     "output_type": "stream",
     "text": [
      "None\n"
     ]
    },
    {
     "ename": "ValueError",
     "evalue": "x, y, and format string must not be None",
     "output_type": "error",
     "traceback": [
      "\u001b[1;31m---------------------------------------------------------------------------\u001b[0m",
      "\u001b[1;31mValueError\u001b[0m                                Traceback (most recent call last)",
      "\u001b[1;32mc:\\Users\\aurav\\OneDrive\\Documents\\SCIA\\Deep Learning\\projet\\deeplearning\\src\\erwann.ipynb Cell 6\u001b[0m line \u001b[0;36m4\n\u001b[0;32m      <a href='vscode-notebook-cell:/c%3A/Users/aurav/OneDrive/Documents/SCIA/Deep%20Learning/projet/deeplearning/src/erwann.ipynb#W6sZmlsZQ%3D%3D?line=1'>2</a>\u001b[0m \u001b[39mimport\u001b[39;00m \u001b[39mmatplotlib\u001b[39;00m\u001b[39m.\u001b[39;00m\u001b[39mpyplot\u001b[39;00m \u001b[39mas\u001b[39;00m \u001b[39mplt\u001b[39;00m\n\u001b[0;32m      <a href='vscode-notebook-cell:/c%3A/Users/aurav/OneDrive/Documents/SCIA/Deep%20Learning/projet/deeplearning/src/erwann.ipynb#W6sZmlsZQ%3D%3D?line=2'>3</a>\u001b[0m \u001b[39mprint\u001b[39m(loss_list)\n\u001b[1;32m----> <a href='vscode-notebook-cell:/c%3A/Users/aurav/OneDrive/Documents/SCIA/Deep%20Learning/projet/deeplearning/src/erwann.ipynb#W6sZmlsZQ%3D%3D?line=3'>4</a>\u001b[0m plt\u001b[39m.\u001b[39;49mplot(loss_list)\n\u001b[0;32m      <a href='vscode-notebook-cell:/c%3A/Users/aurav/OneDrive/Documents/SCIA/Deep%20Learning/projet/deeplearning/src/erwann.ipynb#W6sZmlsZQ%3D%3D?line=4'>5</a>\u001b[0m plt\u001b[39m.\u001b[39mshow()\n",
      "File \u001b[1;32mc:\\Users\\aurav\\AppData\\Local\\Programs\\Python\\Python310\\lib\\site-packages\\matplotlib\\pyplot.py:2812\u001b[0m, in \u001b[0;36mplot\u001b[1;34m(scalex, scaley, data, *args, **kwargs)\u001b[0m\n\u001b[0;32m   2810\u001b[0m \u001b[39m@_copy_docstring_and_deprecators\u001b[39m(Axes\u001b[39m.\u001b[39mplot)\n\u001b[0;32m   2811\u001b[0m \u001b[39mdef\u001b[39;00m \u001b[39mplot\u001b[39m(\u001b[39m*\u001b[39margs, scalex\u001b[39m=\u001b[39m\u001b[39mTrue\u001b[39;00m, scaley\u001b[39m=\u001b[39m\u001b[39mTrue\u001b[39;00m, data\u001b[39m=\u001b[39m\u001b[39mNone\u001b[39;00m, \u001b[39m*\u001b[39m\u001b[39m*\u001b[39mkwargs):\n\u001b[1;32m-> 2812\u001b[0m     \u001b[39mreturn\u001b[39;00m gca()\u001b[39m.\u001b[39mplot(\n\u001b[0;32m   2813\u001b[0m         \u001b[39m*\u001b[39margs, scalex\u001b[39m=\u001b[39mscalex, scaley\u001b[39m=\u001b[39mscaley,\n\u001b[0;32m   2814\u001b[0m         \u001b[39m*\u001b[39m\u001b[39m*\u001b[39m({\u001b[39m\"\u001b[39m\u001b[39mdata\u001b[39m\u001b[39m\"\u001b[39m: data} \u001b[39mif\u001b[39;00m data \u001b[39mis\u001b[39;00m \u001b[39mnot\u001b[39;00m \u001b[39mNone\u001b[39;00m \u001b[39melse\u001b[39;00m {}), \u001b[39m*\u001b[39m\u001b[39m*\u001b[39mkwargs)\n",
      "File \u001b[1;32mc:\\Users\\aurav\\AppData\\Local\\Programs\\Python\\Python310\\lib\\site-packages\\matplotlib\\axes\\_axes.py:1688\u001b[0m, in \u001b[0;36mAxes.plot\u001b[1;34m(self, scalex, scaley, data, *args, **kwargs)\u001b[0m\n\u001b[0;32m   1445\u001b[0m \u001b[39m\u001b[39m\u001b[39m\"\"\"\u001b[39;00m\n\u001b[0;32m   1446\u001b[0m \u001b[39mPlot y versus x as lines and/or markers.\u001b[39;00m\n\u001b[0;32m   1447\u001b[0m \n\u001b[1;32m   (...)\u001b[0m\n\u001b[0;32m   1685\u001b[0m \u001b[39m(``'green'``) or hex strings (``'#008000'``).\u001b[39;00m\n\u001b[0;32m   1686\u001b[0m \u001b[39m\"\"\"\u001b[39;00m\n\u001b[0;32m   1687\u001b[0m kwargs \u001b[39m=\u001b[39m cbook\u001b[39m.\u001b[39mnormalize_kwargs(kwargs, mlines\u001b[39m.\u001b[39mLine2D)\n\u001b[1;32m-> 1688\u001b[0m lines \u001b[39m=\u001b[39m [\u001b[39m*\u001b[39m\u001b[39mself\u001b[39m\u001b[39m.\u001b[39m_get_lines(\u001b[39m*\u001b[39margs, data\u001b[39m=\u001b[39mdata, \u001b[39m*\u001b[39m\u001b[39m*\u001b[39mkwargs)]\n\u001b[0;32m   1689\u001b[0m \u001b[39mfor\u001b[39;00m line \u001b[39min\u001b[39;00m lines:\n\u001b[0;32m   1690\u001b[0m     \u001b[39mself\u001b[39m\u001b[39m.\u001b[39madd_line(line)\n",
      "File \u001b[1;32mc:\\Users\\aurav\\AppData\\Local\\Programs\\Python\\Python310\\lib\\site-packages\\matplotlib\\axes\\_base.py:311\u001b[0m, in \u001b[0;36m_process_plot_var_args.__call__\u001b[1;34m(self, data, *args, **kwargs)\u001b[0m\n\u001b[0;32m    309\u001b[0m     this \u001b[39m+\u001b[39m\u001b[39m=\u001b[39m args[\u001b[39m0\u001b[39m],\n\u001b[0;32m    310\u001b[0m     args \u001b[39m=\u001b[39m args[\u001b[39m1\u001b[39m:]\n\u001b[1;32m--> 311\u001b[0m \u001b[39myield from\u001b[39;00m \u001b[39mself\u001b[39;49m\u001b[39m.\u001b[39;49m_plot_args(\n\u001b[0;32m    312\u001b[0m     this, kwargs, ambiguous_fmt_datakey\u001b[39m=\u001b[39;49mambiguous_fmt_datakey)\n",
      "File \u001b[1;32mc:\\Users\\aurav\\AppData\\Local\\Programs\\Python\\Python310\\lib\\site-packages\\matplotlib\\axes\\_base.py:465\u001b[0m, in \u001b[0;36m_process_plot_var_args._plot_args\u001b[1;34m(self, tup, kwargs, return_kwargs, ambiguous_fmt_datakey)\u001b[0m\n\u001b[0;32m    462\u001b[0m \u001b[39m# Don't allow any None value; these would be up-converted to one\u001b[39;00m\n\u001b[0;32m    463\u001b[0m \u001b[39m# element array of None which causes problems downstream.\u001b[39;00m\n\u001b[0;32m    464\u001b[0m \u001b[39mif\u001b[39;00m \u001b[39many\u001b[39m(v \u001b[39mis\u001b[39;00m \u001b[39mNone\u001b[39;00m \u001b[39mfor\u001b[39;00m v \u001b[39min\u001b[39;00m tup):\n\u001b[1;32m--> 465\u001b[0m     \u001b[39mraise\u001b[39;00m \u001b[39mValueError\u001b[39;00m(\u001b[39m\"\u001b[39m\u001b[39mx, y, and format string must not be None\u001b[39m\u001b[39m\"\u001b[39m)\n\u001b[0;32m    467\u001b[0m kw \u001b[39m=\u001b[39m {}\n\u001b[0;32m    468\u001b[0m \u001b[39mfor\u001b[39;00m prop_name, val \u001b[39min\u001b[39;00m \u001b[39mzip\u001b[39m((\u001b[39m'\u001b[39m\u001b[39mlinestyle\u001b[39m\u001b[39m'\u001b[39m, \u001b[39m'\u001b[39m\u001b[39mmarker\u001b[39m\u001b[39m'\u001b[39m, \u001b[39m'\u001b[39m\u001b[39mcolor\u001b[39m\u001b[39m'\u001b[39m),\n\u001b[0;32m    469\u001b[0m                           (linestyle, marker, color)):\n",
      "\u001b[1;31mValueError\u001b[0m: x, y, and format string must not be None"
     ]
    },
    {
     "data": {
      "image/png": "[encoded data removed]",
      "text/plain": [
       "<Figure size 640x480 with 1 Axes>"
      ]
     },
     "metadata": {},
     "output_type": "display_data"
    }
   ],
   "source": [
    "# print loss\n",
    "import matplotlib.pyplot as plt\n",
    "print(loss_list)\n",
    "plt.plot(loss_list)\n",
    "plt.show()"
   ]
  },
  {
   "cell_type": "code",
   "execution_count": 83,
   "metadata": {},
   "outputs": [
    {
     "ename": "KeyError",
     "evalue": "\"Key 'dehling' not present\"",
     "output_type": "error",
     "traceback": [
      "\u001b[1;31m---------------------------------------------------------------------------\u001b[0m",
      "\u001b[1;31mKeyError\u001b[0m                                  Traceback (most recent call last)",
      "\u001b[1;32mc:\\Users\\aurav\\OneDrive\\Documents\\SCIA\\Deep Learning\\projet\\deeplearning\\src\\erwann.ipynb Cell 6\u001b[0m line \u001b[0;36m3\n\u001b[0;32m      <a href='vscode-notebook-cell:/c%3A/Users/aurav/OneDrive/Documents/SCIA/Deep%20Learning/projet/deeplearning/src/erwann.ipynb#W5sZmlsZQ%3D%3D?line=0'>1</a>\u001b[0m \u001b[39m# test accuracy with the test set\u001b[39;00m\n\u001b[0;32m      <a href='vscode-notebook-cell:/c%3A/Users/aurav/OneDrive/Documents/SCIA/Deep%20Learning/projet/deeplearning/src/erwann.ipynb#W5sZmlsZQ%3D%3D?line=1'>2</a>\u001b[0m test_accuracy \u001b[39m=\u001b[39m \u001b[39m0\u001b[39m\n\u001b[1;32m----> <a href='vscode-notebook-cell:/c%3A/Users/aurav/OneDrive/Documents/SCIA/Deep%20Learning/projet/deeplearning/src/erwann.ipynb#W5sZmlsZQ%3D%3D?line=2'>3</a>\u001b[0m \u001b[39mfor\u001b[39;00m i, data \u001b[39min\u001b[39;00m \u001b[39menumerate\u001b[39m(test_loader):\n\u001b[0;32m      <a href='vscode-notebook-cell:/c%3A/Users/aurav/OneDrive/Documents/SCIA/Deep%20Learning/projet/deeplearning/src/erwann.ipynb#W5sZmlsZQ%3D%3D?line=3'>4</a>\u001b[0m     inputs \u001b[39m=\u001b[39m data[\u001b[39m'\u001b[39m\u001b[39mdata\u001b[39m\u001b[39m'\u001b[39m]\n\u001b[0;32m      <a href='vscode-notebook-cell:/c%3A/Users/aurav/OneDrive/Documents/SCIA/Deep%20Learning/projet/deeplearning/src/erwann.ipynb#W5sZmlsZQ%3D%3D?line=4'>5</a>\u001b[0m     labels \u001b[39m=\u001b[39m data[\u001b[39m'\u001b[39m\u001b[39mlabel\u001b[39m\u001b[39m'\u001b[39m]\n",
      "File \u001b[1;32mc:\\Users\\aurav\\AppData\\Local\\Programs\\Python\\Python310\\lib\\site-packages\\torch\\utils\\data\\dataloader.py:634\u001b[0m, in \u001b[0;36m_BaseDataLoaderIter.__next__\u001b[1;34m(self)\u001b[0m\n\u001b[0;32m    631\u001b[0m \u001b[39mif\u001b[39;00m \u001b[39mself\u001b[39m\u001b[39m.\u001b[39m_sampler_iter \u001b[39mis\u001b[39;00m \u001b[39mNone\u001b[39;00m:\n\u001b[0;32m    632\u001b[0m     \u001b[39m# TODO(https://github.com/pytorch/pytorch/issues/76750)\u001b[39;00m\n\u001b[0;32m    633\u001b[0m     \u001b[39mself\u001b[39m\u001b[39m.\u001b[39m_reset()  \u001b[39m# type: ignore[call-arg]\u001b[39;00m\n\u001b[1;32m--> 634\u001b[0m data \u001b[39m=\u001b[39m \u001b[39mself\u001b[39;49m\u001b[39m.\u001b[39;49m_next_data()\n\u001b[0;32m    635\u001b[0m \u001b[39mself\u001b[39m\u001b[39m.\u001b[39m_num_yielded \u001b[39m+\u001b[39m\u001b[39m=\u001b[39m \u001b[39m1\u001b[39m\n\u001b[0;32m    636\u001b[0m \u001b[39mif\u001b[39;00m \u001b[39mself\u001b[39m\u001b[39m.\u001b[39m_dataset_kind \u001b[39m==\u001b[39m _DatasetKind\u001b[39m.\u001b[39mIterable \u001b[39mand\u001b[39;00m \\\n\u001b[0;32m    637\u001b[0m         \u001b[39mself\u001b[39m\u001b[39m.\u001b[39m_IterableDataset_len_called \u001b[39mis\u001b[39;00m \u001b[39mnot\u001b[39;00m \u001b[39mNone\u001b[39;00m \u001b[39mand\u001b[39;00m \\\n\u001b[0;32m    638\u001b[0m         \u001b[39mself\u001b[39m\u001b[39m.\u001b[39m_num_yielded \u001b[39m>\u001b[39m \u001b[39mself\u001b[39m\u001b[39m.\u001b[39m_IterableDataset_len_called:\n",
      "File \u001b[1;32mc:\\Users\\aurav\\AppData\\Local\\Programs\\Python\\Python310\\lib\\site-packages\\torch\\utils\\data\\dataloader.py:678\u001b[0m, in \u001b[0;36m_SingleProcessDataLoaderIter._next_data\u001b[1;34m(self)\u001b[0m\n\u001b[0;32m    676\u001b[0m \u001b[39mdef\u001b[39;00m \u001b[39m_next_data\u001b[39m(\u001b[39mself\u001b[39m):\n\u001b[0;32m    677\u001b[0m     index \u001b[39m=\u001b[39m \u001b[39mself\u001b[39m\u001b[39m.\u001b[39m_next_index()  \u001b[39m# may raise StopIteration\u001b[39;00m\n\u001b[1;32m--> 678\u001b[0m     data \u001b[39m=\u001b[39m \u001b[39mself\u001b[39;49m\u001b[39m.\u001b[39;49m_dataset_fetcher\u001b[39m.\u001b[39;49mfetch(index)  \u001b[39m# may raise StopIteration\u001b[39;00m\n\u001b[0;32m    679\u001b[0m     \u001b[39mif\u001b[39;00m \u001b[39mself\u001b[39m\u001b[39m.\u001b[39m_pin_memory:\n\u001b[0;32m    680\u001b[0m         data \u001b[39m=\u001b[39m _utils\u001b[39m.\u001b[39mpin_memory\u001b[39m.\u001b[39mpin_memory(data, \u001b[39mself\u001b[39m\u001b[39m.\u001b[39m_pin_memory_device)\n",
      "File \u001b[1;32mc:\\Users\\aurav\\AppData\\Local\\Programs\\Python\\Python310\\lib\\site-packages\\torch\\utils\\data\\_utils\\fetch.py:51\u001b[0m, in \u001b[0;36m_MapDatasetFetcher.fetch\u001b[1;34m(self, possibly_batched_index)\u001b[0m\n\u001b[0;32m     49\u001b[0m         data \u001b[39m=\u001b[39m \u001b[39mself\u001b[39m\u001b[39m.\u001b[39mdataset\u001b[39m.\u001b[39m__getitems__(possibly_batched_index)\n\u001b[0;32m     50\u001b[0m     \u001b[39melse\u001b[39;00m:\n\u001b[1;32m---> 51\u001b[0m         data \u001b[39m=\u001b[39m [\u001b[39mself\u001b[39m\u001b[39m.\u001b[39mdataset[idx] \u001b[39mfor\u001b[39;00m idx \u001b[39min\u001b[39;00m possibly_batched_index]\n\u001b[0;32m     52\u001b[0m \u001b[39melse\u001b[39;00m:\n\u001b[0;32m     53\u001b[0m     data \u001b[39m=\u001b[39m \u001b[39mself\u001b[39m\u001b[39m.\u001b[39mdataset[possibly_batched_index]\n",
      "File \u001b[1;32mc:\\Users\\aurav\\AppData\\Local\\Programs\\Python\\Python310\\lib\\site-packages\\torch\\utils\\data\\_utils\\fetch.py:51\u001b[0m, in \u001b[0;36m<listcomp>\u001b[1;34m(.0)\u001b[0m\n\u001b[0;32m     49\u001b[0m         data \u001b[39m=\u001b[39m \u001b[39mself\u001b[39m\u001b[39m.\u001b[39mdataset\u001b[39m.\u001b[39m__getitems__(possibly_batched_index)\n\u001b[0;32m     50\u001b[0m     \u001b[39melse\u001b[39;00m:\n\u001b[1;32m---> 51\u001b[0m         data \u001b[39m=\u001b[39m [\u001b[39mself\u001b[39;49m\u001b[39m.\u001b[39;49mdataset[idx] \u001b[39mfor\u001b[39;00m idx \u001b[39min\u001b[39;00m possibly_batched_index]\n\u001b[0;32m     52\u001b[0m \u001b[39melse\u001b[39;00m:\n\u001b[0;32m     53\u001b[0m     data \u001b[39m=\u001b[39m \u001b[39mself\u001b[39m\u001b[39m.\u001b[39mdataset[possibly_batched_index]\n",
      "File \u001b[1;32mc:\\Users\\aurav\\OneDrive\\Documents\\SCIA\\Deep Learning\\projet\\deeplearning\\src\\dataset.py:35\u001b[0m, in \u001b[0;36mLargeMovieDataset.__getitem__\u001b[1;34m(self, idx)\u001b[0m\n\u001b[0;32m     33\u001b[0m sentence_mask \u001b[39m=\u001b[39m []\n\u001b[0;32m     34\u001b[0m \u001b[39mfor\u001b[39;00m word \u001b[39min\u001b[39;00m sentence:\n\u001b[1;32m---> 35\u001b[0m     sentence_data\u001b[39m.\u001b[39mappend(\u001b[39mself\u001b[39;49m\u001b[39m.\u001b[39;49membedding_dic[word])\n\u001b[0;32m     36\u001b[0m     sentence_mask\u001b[39m.\u001b[39mappend(\u001b[39m1\u001b[39m)\n\u001b[0;32m     37\u001b[0m \u001b[39mwhile\u001b[39;00m \u001b[39mlen\u001b[39m(sentence_data) \u001b[39m<\u001b[39m \u001b[39mself\u001b[39m\u001b[39m.\u001b[39mmax_len:\n",
      "File \u001b[1;32mc:\\Users\\aurav\\AppData\\Local\\Programs\\Python\\Python310\\lib\\site-packages\\gensim\\models\\keyedvectors.py:403\u001b[0m, in \u001b[0;36mKeyedVectors.__getitem__\u001b[1;34m(self, key_or_keys)\u001b[0m\n\u001b[0;32m    389\u001b[0m \u001b[39m\u001b[39m\u001b[39m\"\"\"Get vector representation of `key_or_keys`.\u001b[39;00m\n\u001b[0;32m    390\u001b[0m \n\u001b[0;32m    391\u001b[0m \u001b[39mParameters\u001b[39;00m\n\u001b[1;32m   (...)\u001b[0m\n\u001b[0;32m    400\u001b[0m \n\u001b[0;32m    401\u001b[0m \u001b[39m\"\"\"\u001b[39;00m\n\u001b[0;32m    402\u001b[0m \u001b[39mif\u001b[39;00m \u001b[39misinstance\u001b[39m(key_or_keys, _KEY_TYPES):\n\u001b[1;32m--> 403\u001b[0m     \u001b[39mreturn\u001b[39;00m \u001b[39mself\u001b[39;49m\u001b[39m.\u001b[39;49mget_vector(key_or_keys)\n\u001b[0;32m    405\u001b[0m \u001b[39mreturn\u001b[39;00m vstack([\u001b[39mself\u001b[39m\u001b[39m.\u001b[39mget_vector(key) \u001b[39mfor\u001b[39;00m key \u001b[39min\u001b[39;00m key_or_keys])\n",
      "File \u001b[1;32mc:\\Users\\aurav\\AppData\\Local\\Programs\\Python\\Python310\\lib\\site-packages\\gensim\\models\\keyedvectors.py:446\u001b[0m, in \u001b[0;36mKeyedVectors.get_vector\u001b[1;34m(self, key, norm)\u001b[0m\n\u001b[0;32m    422\u001b[0m \u001b[39mdef\u001b[39;00m \u001b[39mget_vector\u001b[39m(\u001b[39mself\u001b[39m, key, norm\u001b[39m=\u001b[39m\u001b[39mFalse\u001b[39;00m):\n\u001b[0;32m    423\u001b[0m \u001b[39m    \u001b[39m\u001b[39m\"\"\"Get the key's vector, as a 1D numpy array.\u001b[39;00m\n\u001b[0;32m    424\u001b[0m \n\u001b[0;32m    425\u001b[0m \u001b[39m    Parameters\u001b[39;00m\n\u001b[1;32m   (...)\u001b[0m\n\u001b[0;32m    444\u001b[0m \n\u001b[0;32m    445\u001b[0m \u001b[39m    \"\"\"\u001b[39;00m\n\u001b[1;32m--> 446\u001b[0m     index \u001b[39m=\u001b[39m \u001b[39mself\u001b[39;49m\u001b[39m.\u001b[39;49mget_index(key)\n\u001b[0;32m    447\u001b[0m     \u001b[39mif\u001b[39;00m norm:\n\u001b[0;32m    448\u001b[0m         \u001b[39mself\u001b[39m\u001b[39m.\u001b[39mfill_norms()\n",
      "File \u001b[1;32mc:\\Users\\aurav\\AppData\\Local\\Programs\\Python\\Python310\\lib\\site-packages\\gensim\\models\\keyedvectors.py:420\u001b[0m, in \u001b[0;36mKeyedVectors.get_index\u001b[1;34m(self, key, default)\u001b[0m\n\u001b[0;32m    418\u001b[0m     \u001b[39mreturn\u001b[39;00m default\n\u001b[0;32m    419\u001b[0m \u001b[39melse\u001b[39;00m:\n\u001b[1;32m--> 420\u001b[0m     \u001b[39mraise\u001b[39;00m \u001b[39mKeyError\u001b[39;00m(\u001b[39mf\u001b[39m\u001b[39m\"\u001b[39m\u001b[39mKey \u001b[39m\u001b[39m'\u001b[39m\u001b[39m{\u001b[39;00mkey\u001b[39m}\u001b[39;00m\u001b[39m'\u001b[39m\u001b[39m not present\u001b[39m\u001b[39m\"\u001b[39m)\n",
      "\u001b[1;31mKeyError\u001b[0m: \"Key 'dehling' not present\""
     ]
    }
   ],
   "source": [
    "# test accuracy with the test set\n",
    "test_accuracy = 0\n",
    "for i, data in enumerate(test_loader):\n",
    "    inputs = data['data']\n",
    "    labels = data['label']\n",
    "\n",
    "    predictions = cnnModel(inputs)\n",
    "    _, predictions = torch.max(predictions, 2)\n",
    "    test_accuracy += torch.sum(predictions == labels) / labels.size()[0]\n",
    "test_accuracy /= len(test_loader)\n",
    "print('Test accuracy:', test_accuracy.item())\n"
   ]
  }
 ],
 "metadata": {
  "kernelspec": {
   "display_name": "Python 3",
   "language": "python",
   "name": "python3"
  },
  "language_info": {
   "codemirror_mode": {
    "name": "ipython",
    "version": 3
   },
   "file_extension": ".py",
   "mimetype": "text/x-python",
   "name": "python",
   "nbconvert_exporter": "python",
   "pygments_lexer": "ipython3",
   "version": "3.10.9"
  }
 },
 "nbformat": 4,
 "nbformat_minor": 2
}
